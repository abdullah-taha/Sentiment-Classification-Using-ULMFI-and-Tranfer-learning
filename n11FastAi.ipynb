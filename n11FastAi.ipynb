{
 "cells": [
  {
   "cell_type": "code",
   "execution_count": 1,
   "metadata": {},
   "outputs": [],
   "source": [
    "%reload_ext autoreload\n",
    "%autoreload 2\n",
    "%matplotlib inline"
   ]
  },
  {
   "cell_type": "code",
   "execution_count": 2,
   "metadata": {},
   "outputs": [],
   "source": [
    "from fastai.text import *"
   ]
  },
  {
   "cell_type": "markdown",
   "metadata": {},
   "source": [
    "Prepear our n11 dataset"
   ]
  },
  {
   "cell_type": "code",
   "execution_count": 136,
   "metadata": {},
   "outputs": [
    {
     "name": "stdout",
     "output_type": "stream",
     "text": [
      "   label                                            comment\n",
      "0      1            teşekkür ederim bir daha ğörüşmek üzere\n",
      "1      1  HIZLI KARGO, GÜVENİLİR MAĞAZA. SIFIR, SORUNSUZ...\n",
      "2      1  çok anlamam telefondan aldık kullacnacaz işte....\n",
      "3      1                                    Evet ürün güzel\n",
      "4      1               Faturam gelmedi yardımcı olurmusunuz\n",
      "5      1  Telefonu annem için aldık.ihtiyaçları karşılıy...\n",
      "6      1                         GÜZEL ÜRÜN TAVSİYE EDERİM.\n",
      "7      0                             urun guzel magaza kotu\n",
      "8      1                   Evet beğendim çok güzel ve uygun\n",
      "9      1  Ürün şimdilik sorunsuz memnun kaldım. Teşekkür...\n",
      "10     1  Ürün güzel tam istediğim geldi özen le ambalaj...\n",
      "11     1  güvenilir ve sorunsuz alışveriş fatura mail le...\n",
      "12     1  her daim bunu bilir bunu söylerim eğer android...\n",
      "13     1                   Teşekkür ederim emeğinize sağlık\n",
      "14     1  Ürünü eşime, almıştık. Kesinlikle bayıldık, çe...\n",
      "15     1  Arkadaşlar bu telefon almak için epey bir araş...\n",
      "16     1            yaşlılarımız icin kullanışlı bi telefon\n",
      "17     1  ürün gayet güzel fiyat da uygun olunca düşünme...\n",
      "18     1                                  orj ürün sorunsuz\n",
      "19     1  beklentilerini fazlasıyla karşılıyor. metal ka...\n",
      "20     1            ewet beğendim temiz güzel bir alışveriş\n",
      "21     0  Hayır hiç reklamını yaptıklarıgibi bir ürün değil\n",
      "22     1  urun anlatıldığı gibi geldi ancak kargoya mağa...\n",
      "23     1                                 Çok beğendim......\n",
      "24     1  Ürün sorunsuz geldi ve büyük Samsung kutusunun...\n",
      "25     0  yurtiçi kargo olarak belirtmelerine rağmen kur...\n",
      "26     1  Ürün bence tam f/p ürünü. Ne beklediğinize bağ...\n",
      "27     1  Siparişimi ertesi gün sorunsuz bir şekilde tes...\n",
      "28     0    Hayır anlatıldığı gibi değil Çok vasat ve yavaş\n",
      "29     1  ürün kapalı kutu bütün imei sticker lar duruyo...\n",
      "30     1               Hızlı Kargo Özenli Paket Teşekkürler\n",
      "31     1  Kapalı kutu, ve faturalı sıfır ürün teşhir değ...\n",
      "32     1                            ÜRÜNÜBEĞENDİM AYNI ÜRÜN\n",
      "33     1  ürün güzel hızlı kargo ama .. paketleme kötü k...\n",
      "34     1  Ürünü ve mağazayı tavsiye ederim kargo iyi ile...\n",
      "35     0                                   hayır begenmedim\n",
      "36     1  1.156 TL ye alabileceğiniz en iyi cihaz kamera...\n",
      "37     1                          Fiyatına göre en uygun bu\n",
      "38     1        cok begendik. alin kullanin saglam telefon.\n",
      "39     1  Ürünü tanıyodum. Uygun fiyat, hızlı gönderi. D...\n",
      "40     1                         GÜZEL ÜRÜN TAVSİYE EDERİM.\n",
      "41     1                ürün güzel. inşallah bizi yaniltmaz\n",
      "42     1  Üründen memenin kaldım. Mağazaya teşekkür ederim.\n",
      "43     1                               evet................\n",
      "44     1  Araştırmalardan sonra istediğim özelliklere sa...\n",
      "45     1                             Fiyat performans ürünü\n",
      "46     1  bu fiyata alınabilecek en uygun tek tel Arkası...\n",
      "47     1  Fiyat ve performans güzel orjinal ürün teşekkü...\n",
      "48     1                              çok teşekkür ediyorum\n",
      "49     1  Ürünü çok beğendik tamda istediğimiz gibi herk...\n"
     ]
    }
   ],
   "source": [
    "import pandas as pd\n",
    "f = open(b\"C:\\Users\\Undefined\\Desktop\\comments.txt\",'r',encoding='utf-8')\n",
    "text = f.readlines()\n",
    "liste = []\n",
    "for line in text:\n",
    "    temp = line.strip().split(' ',1)\n",
    "    liste.append(temp)\n",
    "df = pd.DataFrame(liste)\n",
    "valid = pd.DataFrame([])\n",
    "df.columns = [\"label\",\"comment\"]\n",
    "print(df.head(50))\n",
    "df.to_csv(\"n11CommentDataset.csv\", index=False)"
   ]
  },
  {
   "cell_type": "code",
   "execution_count": 137,
   "metadata": {},
   "outputs": [],
   "source": [
    "df = pd.read_csv(\"n11CommentDataset.csv\")"
   ]
  },
  {
   "cell_type": "code",
   "execution_count": 138,
   "metadata": {},
   "outputs": [
    {
     "data": {
      "text/html": [
       "<div>\n",
       "<style scoped>\n",
       "    .dataframe tbody tr th:only-of-type {\n",
       "        vertical-align: middle;\n",
       "    }\n",
       "\n",
       "    .dataframe tbody tr th {\n",
       "        vertical-align: top;\n",
       "    }\n",
       "\n",
       "    .dataframe thead th {\n",
       "        text-align: right;\n",
       "    }\n",
       "</style>\n",
       "<table border=\"1\" class=\"dataframe\">\n",
       "  <thead>\n",
       "    <tr style=\"text-align: right;\">\n",
       "      <th></th>\n",
       "      <th>label</th>\n",
       "      <th>comment</th>\n",
       "    </tr>\n",
       "  </thead>\n",
       "  <tbody>\n",
       "    <tr>\n",
       "      <th>0</th>\n",
       "      <td>1</td>\n",
       "      <td>teşekkür ederim bir daha ğörüşmek üzere</td>\n",
       "    </tr>\n",
       "    <tr>\n",
       "      <th>1</th>\n",
       "      <td>1</td>\n",
       "      <td>HIZLI KARGO, GÜVENİLİR MAĞAZA. SIFIR, SORUNSUZ...</td>\n",
       "    </tr>\n",
       "    <tr>\n",
       "      <th>2</th>\n",
       "      <td>1</td>\n",
       "      <td>çok anlamam telefondan aldık kullacnacaz işte....</td>\n",
       "    </tr>\n",
       "    <tr>\n",
       "      <th>3</th>\n",
       "      <td>1</td>\n",
       "      <td>Evet ürün güzel</td>\n",
       "    </tr>\n",
       "    <tr>\n",
       "      <th>4</th>\n",
       "      <td>1</td>\n",
       "      <td>Faturam gelmedi yardımcı olurmusunuz</td>\n",
       "    </tr>\n",
       "  </tbody>\n",
       "</table>\n",
       "</div>"
      ],
      "text/plain": [
       "   label                                            comment\n",
       "0      1            teşekkür ederim bir daha ğörüşmek üzere\n",
       "1      1  HIZLI KARGO, GÜVENİLİR MAĞAZA. SIFIR, SORUNSUZ...\n",
       "2      1  çok anlamam telefondan aldık kullacnacaz işte....\n",
       "3      1                                    Evet ürün güzel\n",
       "4      1               Faturam gelmedi yardımcı olurmusunuz"
      ]
     },
     "execution_count": 138,
     "metadata": {},
     "output_type": "execute_result"
    }
   ],
   "source": [
    "df.head(5)"
   ]
  },
  {
   "cell_type": "code",
   "execution_count": 139,
   "metadata": {},
   "outputs": [],
   "source": [
    "df = df.sort_values('label')"
   ]
  },
  {
   "cell_type": "code",
   "execution_count": 140,
   "metadata": {},
   "outputs": [
    {
     "data": {
      "text/html": [
       "<div>\n",
       "<style scoped>\n",
       "    .dataframe tbody tr th:only-of-type {\n",
       "        vertical-align: middle;\n",
       "    }\n",
       "\n",
       "    .dataframe tbody tr th {\n",
       "        vertical-align: top;\n",
       "    }\n",
       "\n",
       "    .dataframe thead th {\n",
       "        text-align: right;\n",
       "    }\n",
       "</style>\n",
       "<table border=\"1\" class=\"dataframe\">\n",
       "  <thead>\n",
       "    <tr style=\"text-align: right;\">\n",
       "      <th></th>\n",
       "      <th>comment</th>\n",
       "    </tr>\n",
       "    <tr>\n",
       "      <th>label</th>\n",
       "      <th></th>\n",
       "    </tr>\n",
       "  </thead>\n",
       "  <tbody>\n",
       "    <tr>\n",
       "      <th>0</th>\n",
       "      <td>1284</td>\n",
       "    </tr>\n",
       "    <tr>\n",
       "      <th>1</th>\n",
       "      <td>6597</td>\n",
       "    </tr>\n",
       "  </tbody>\n",
       "</table>\n",
       "</div>"
      ],
      "text/plain": [
       "       comment\n",
       "label         \n",
       "0         1284\n",
       "1         6597"
      ]
     },
     "execution_count": 140,
     "metadata": {},
     "output_type": "execute_result"
    }
   ],
   "source": [
    "df.groupby('label').count()"
   ]
  },
  {
   "cell_type": "code",
   "execution_count": 141,
   "metadata": {},
   "outputs": [],
   "source": [
    "negative_comments = df[0:1285]"
   ]
  },
  {
   "cell_type": "code",
   "execution_count": 85,
   "metadata": {},
   "outputs": [
    {
     "data": {
      "text/html": [
       "<div>\n",
       "<style scoped>\n",
       "    .dataframe tbody tr th:only-of-type {\n",
       "        vertical-align: middle;\n",
       "    }\n",
       "\n",
       "    .dataframe tbody tr th {\n",
       "        vertical-align: top;\n",
       "    }\n",
       "\n",
       "    .dataframe thead th {\n",
       "        text-align: right;\n",
       "    }\n",
       "</style>\n",
       "<table border=\"1\" class=\"dataframe\">\n",
       "  <thead>\n",
       "    <tr style=\"text-align: right;\">\n",
       "      <th></th>\n",
       "      <th>label</th>\n",
       "      <th>comment</th>\n",
       "    </tr>\n",
       "  </thead>\n",
       "  <tbody>\n",
       "    <tr>\n",
       "      <th>7889</th>\n",
       "      <td>0</td>\n",
       "      <td>PİL CANAVARI... BEĞENDİM.</td>\n",
       "    </tr>\n",
       "    <tr>\n",
       "      <th>7065</th>\n",
       "      <td>0</td>\n",
       "      <td>memnun kalmadım</td>\n",
       "    </tr>\n",
       "    <tr>\n",
       "      <th>7066</th>\n",
       "      <td>0</td>\n",
       "      <td>FATURAYA DIKKAT EDİN GONDERMEYEBILIYOLAR</td>\n",
       "    </tr>\n",
       "    <tr>\n",
       "      <th>7067</th>\n",
       "      <td>0</td>\n",
       "      <td>şleri bittikten sonra hiç yardımcı olmuyolar u...</td>\n",
       "    </tr>\n",
       "    <tr>\n",
       "      <th>7068</th>\n",
       "      <td>0</td>\n",
       "      <td>15 günden fazla zaman geçmesine rağmen fatura ...</td>\n",
       "    </tr>\n",
       "    <tr>\n",
       "      <th>...</th>\n",
       "      <td>...</td>\n",
       "      <td>...</td>\n",
       "    </tr>\n",
       "    <tr>\n",
       "      <th>7482</th>\n",
       "      <td>0</td>\n",
       "      <td>şark kurnazlığı yapıyorlar. kargo tarihi yakın...</td>\n",
       "    </tr>\n",
       "    <tr>\n",
       "      <th>7492</th>\n",
       "      <td>0</td>\n",
       "      <td>ürün güzel fakat benim gibi fazla para vererek...</td>\n",
       "    </tr>\n",
       "    <tr>\n",
       "      <th>7479</th>\n",
       "      <td>0</td>\n",
       "      <td>performans güzel fakat arayüzü kötü</td>\n",
       "    </tr>\n",
       "    <tr>\n",
       "      <th>7480</th>\n",
       "      <td>0</td>\n",
       "      <td>Telefonun imei'nin kayıtlı olmadığı mesajı geldi.</td>\n",
       "    </tr>\n",
       "    <tr>\n",
       "      <th>7501</th>\n",
       "      <td>0</td>\n",
       "      <td>samsung diye aldım. eşimede A70 aldım hatta an...</td>\n",
       "    </tr>\n",
       "  </tbody>\n",
       "</table>\n",
       "<p>1285 rows × 2 columns</p>\n",
       "</div>"
      ],
      "text/plain": [
       "      label                                            comment\n",
       "7889      0                          PİL CANAVARI... BEĞENDİM.\n",
       "7065      0                                    memnun kalmadım\n",
       "7066      0           FATURAYA DIKKAT EDİN GONDERMEYEBILIYOLAR\n",
       "7067      0  şleri bittikten sonra hiç yardımcı olmuyolar u...\n",
       "7068      0  15 günden fazla zaman geçmesine rağmen fatura ...\n",
       "...     ...                                                ...\n",
       "7482      0  şark kurnazlığı yapıyorlar. kargo tarihi yakın...\n",
       "7492      0  ürün güzel fakat benim gibi fazla para vererek...\n",
       "7479      0                performans güzel fakat arayüzü kötü\n",
       "7480      0  Telefonun imei'nin kayıtlı olmadığı mesajı geldi.\n",
       "7501      0  samsung diye aldım. eşimede A70 aldım hatta an...\n",
       "\n",
       "[1285 rows x 2 columns]"
      ]
     },
     "execution_count": 85,
     "metadata": {},
     "output_type": "execute_result"
    }
   ],
   "source": [
    "negative_comments"
   ]
  },
  {
   "cell_type": "code",
   "execution_count": 142,
   "metadata": {},
   "outputs": [],
   "source": [
    "df = df.append(negative_comments)"
   ]
  },
  {
   "cell_type": "code",
   "execution_count": 143,
   "metadata": {},
   "outputs": [],
   "source": [
    "df = df.sort_values('label')"
   ]
  },
  {
   "cell_type": "code",
   "execution_count": 144,
   "metadata": {},
   "outputs": [
    {
     "data": {
      "text/html": [
       "<div>\n",
       "<style scoped>\n",
       "    .dataframe tbody tr th:only-of-type {\n",
       "        vertical-align: middle;\n",
       "    }\n",
       "\n",
       "    .dataframe tbody tr th {\n",
       "        vertical-align: top;\n",
       "    }\n",
       "\n",
       "    .dataframe thead th {\n",
       "        text-align: right;\n",
       "    }\n",
       "</style>\n",
       "<table border=\"1\" class=\"dataframe\">\n",
       "  <thead>\n",
       "    <tr style=\"text-align: right;\">\n",
       "      <th></th>\n",
       "      <th>comment</th>\n",
       "    </tr>\n",
       "    <tr>\n",
       "      <th>label</th>\n",
       "      <th></th>\n",
       "    </tr>\n",
       "  </thead>\n",
       "  <tbody>\n",
       "    <tr>\n",
       "      <th>0</th>\n",
       "      <td>2566</td>\n",
       "    </tr>\n",
       "    <tr>\n",
       "      <th>1</th>\n",
       "      <td>6597</td>\n",
       "    </tr>\n",
       "  </tbody>\n",
       "</table>\n",
       "</div>"
      ],
      "text/plain": [
       "       comment\n",
       "label         \n",
       "0         2566\n",
       "1         6597"
      ]
     },
     "execution_count": 144,
     "metadata": {},
     "output_type": "execute_result"
    }
   ],
   "source": [
    "df.groupby('label').count()"
   ]
  },
  {
   "cell_type": "code",
   "execution_count": 89,
   "metadata": {},
   "outputs": [
    {
     "data": {
      "text/plain": [
       "(6597, 2566)"
      ]
     },
     "execution_count": 89,
     "metadata": {},
     "output_type": "execute_result"
    }
   ],
   "source": [
    "poz_com_size = df.groupby('label').count()[\"comment\"][1]\n",
    "neg_com_size = df.groupby('label').count()[\"comment\"][0]\n",
    "poz_com_size, neg_com_size"
   ]
  },
  {
   "cell_type": "code",
   "execution_count": 91,
   "metadata": {},
   "outputs": [],
   "source": [
    "cut_poz = int(0.3 * poz_com_size) + 1\n",
    "cut_neg = int(0.3 * neg_com_size) + 1"
   ]
  },
  {
   "cell_type": "code",
   "execution_count": 100,
   "metadata": {},
   "outputs": [
    {
     "data": {
      "text/plain": [
       "(6597, 4617, 1980, 2566, 1796, 770)"
      ]
     },
     "execution_count": 100,
     "metadata": {},
     "output_type": "execute_result"
    }
   ],
   "source": [
    "poz_com_size, poz_com_size-cut_poz, cut_poz, neg_com_size, neg_com_size-cut_neg, cut_neg "
   ]
  },
  {
   "cell_type": "code",
   "execution_count": 145,
   "metadata": {},
   "outputs": [],
   "source": [
    "neg_df_valid = df[:cut_neg]\n",
    "neg_df_train = df[cut_neg:neg_com_size] \n",
    "poz_df_valid = df[neg_com_size:neg_com_size+cut_poz] \n",
    "poz_df_train = df[neg_com_size+cut_poz:] \n",
    "\n",
    "df_train = pd.concat([neg_df_train, poz_df_train])\n",
    "df_valid = pd.concat([neg_df_valid, poz_df_valid])\n",
    "\n",
    "\n",
    "df_train = df_train.iloc[np.random.permutation(len(df_train))]\n",
    "df_valid = df_valid.iloc[np.random.permutation(len(df_valid))]"
   ]
  },
  {
   "cell_type": "code",
   "execution_count": 146,
   "metadata": {},
   "outputs": [
    {
     "data": {
      "text/plain": [
       "(6425, 2750)"
      ]
     },
     "execution_count": 146,
     "metadata": {},
     "output_type": "execute_result"
    }
   ],
   "source": [
    "len(df_train), len(df_valid)"
   ]
  },
  {
   "cell_type": "code",
   "execution_count": 153,
   "metadata": {},
   "outputs": [
    {
     "data": {
      "text/plain": [
       "label      False\n",
       "comment     True\n",
       "dtype: bool"
      ]
     },
     "execution_count": 153,
     "metadata": {},
     "output_type": "execute_result"
    }
   ],
   "source": [
    "df_train.isnull().any()\n"
   ]
  },
  {
   "cell_type": "code",
   "execution_count": 154,
   "metadata": {},
   "outputs": [
    {
     "data": {
      "text/plain": [
       "label       0\n",
       "comment    10\n",
       "dtype: int64"
      ]
     },
     "execution_count": 154,
     "metadata": {},
     "output_type": "execute_result"
    }
   ],
   "source": [
    "df_train.isnull().sum()"
   ]
  },
  {
   "cell_type": "code",
   "execution_count": 149,
   "metadata": {},
   "outputs": [
    {
     "data": {
      "text/html": [
       "<div>\n",
       "<style scoped>\n",
       "    .dataframe tbody tr th:only-of-type {\n",
       "        vertical-align: middle;\n",
       "    }\n",
       "\n",
       "    .dataframe tbody tr th {\n",
       "        vertical-align: top;\n",
       "    }\n",
       "\n",
       "    .dataframe thead th {\n",
       "        text-align: right;\n",
       "    }\n",
       "</style>\n",
       "<table border=\"1\" class=\"dataframe\">\n",
       "  <thead>\n",
       "    <tr style=\"text-align: right;\">\n",
       "      <th></th>\n",
       "      <th>label</th>\n",
       "      <th>comment</th>\n",
       "    </tr>\n",
       "  </thead>\n",
       "  <tbody>\n",
       "    <tr>\n",
       "      <th>7630</th>\n",
       "      <td>0</td>\n",
       "      <td>NaN</td>\n",
       "    </tr>\n",
       "    <tr>\n",
       "      <th>7640</th>\n",
       "      <td>0</td>\n",
       "      <td>NaN</td>\n",
       "    </tr>\n",
       "    <tr>\n",
       "      <th>7707</th>\n",
       "      <td>0</td>\n",
       "      <td>NaN</td>\n",
       "    </tr>\n",
       "    <tr>\n",
       "      <th>7707</th>\n",
       "      <td>0</td>\n",
       "      <td>NaN</td>\n",
       "    </tr>\n",
       "    <tr>\n",
       "      <th>7640</th>\n",
       "      <td>0</td>\n",
       "      <td>NaN</td>\n",
       "    </tr>\n",
       "    <tr>\n",
       "      <th>7630</th>\n",
       "      <td>0</td>\n",
       "      <td>NaN</td>\n",
       "    </tr>\n",
       "    <tr>\n",
       "      <th>2712</th>\n",
       "      <td>1</td>\n",
       "      <td>NaN</td>\n",
       "    </tr>\n",
       "    <tr>\n",
       "      <th>2595</th>\n",
       "      <td>1</td>\n",
       "      <td>NaN</td>\n",
       "    </tr>\n",
       "    <tr>\n",
       "      <th>4049</th>\n",
       "      <td>1</td>\n",
       "      <td>NaN</td>\n",
       "    </tr>\n",
       "    <tr>\n",
       "      <th>5174</th>\n",
       "      <td>1</td>\n",
       "      <td>NaN</td>\n",
       "    </tr>\n",
       "    <tr>\n",
       "      <th>1790</th>\n",
       "      <td>1</td>\n",
       "      <td>NaN</td>\n",
       "    </tr>\n",
       "    <tr>\n",
       "      <th>399</th>\n",
       "      <td>1</td>\n",
       "      <td>NaN</td>\n",
       "    </tr>\n",
       "  </tbody>\n",
       "</table>\n",
       "</div>"
      ],
      "text/plain": [
       "      label comment\n",
       "7630      0     NaN\n",
       "7640      0     NaN\n",
       "7707      0     NaN\n",
       "7707      0     NaN\n",
       "7640      0     NaN\n",
       "7630      0     NaN\n",
       "2712      1     NaN\n",
       "2595      1     NaN\n",
       "4049      1     NaN\n",
       "5174      1     NaN\n",
       "1790      1     NaN\n",
       "399       1     NaN"
      ]
     },
     "execution_count": 149,
     "metadata": {},
     "output_type": "execute_result"
    }
   ],
   "source": [
    "null_rows = df[\"comment\"].isnull()\n",
    "df[:][null_rows]"
   ]
  },
  {
   "cell_type": "code",
   "execution_count": 156,
   "metadata": {},
   "outputs": [
    {
     "data": {
      "text/plain": [
       "label      False\n",
       "comment    False\n",
       "dtype: bool"
      ]
     },
     "execution_count": 156,
     "metadata": {},
     "output_type": "execute_result"
    }
   ],
   "source": [
    "df.dropna(axis=0,inplace=True)\n",
    "df.isnull().any()"
   ]
  },
  {
   "cell_type": "code",
   "execution_count": 157,
   "metadata": {},
   "outputs": [],
   "source": [
    "df_train.to_csv(\"n11CommentDataset_train.csv\", index=False)\n",
    "df_valid.to_csv(\"n11CommentDataset_valid.csv\", index=False)"
   ]
  },
  {
   "cell_type": "code",
   "execution_count": 3,
   "metadata": {},
   "outputs": [],
   "source": [
    "df_train = pd.read_csv(\"n11CommentDataset_train.csv\")\n",
    "df_valid = pd.read_csv(\"n11CommentDataset_valid.csv\")"
   ]
  },
  {
   "cell_type": "code",
   "execution_count": 4,
   "metadata": {},
   "outputs": [
    {
     "data": {
      "text/html": [],
      "text/plain": [
       "<IPython.core.display.HTML object>"
      ]
     },
     "metadata": {},
     "output_type": "display_data"
    },
    {
     "data": {
      "text/html": [],
      "text/plain": [
       "<IPython.core.display.HTML object>"
      ]
     },
     "metadata": {},
     "output_type": "display_data"
    }
   ],
   "source": [
    "data_lm = TextLMDataBunch.from_df('.', train_df=df_train, valid_df= df_valid, label_cols=\"label\", text_cols=\"comment\")"
   ]
  },
  {
   "cell_type": "code",
   "execution_count": 5,
   "metadata": {},
   "outputs": [],
   "source": [
    "data_lm.save('data_lm_n11.pkl')"
   ]
  },
  {
   "cell_type": "code",
   "execution_count": 5,
   "metadata": {
    "scrolled": true
   },
   "outputs": [
    {
     "data": {
      "text/html": [
       "<table border=\"1\" class=\"dataframe\">\n",
       "  <thead>\n",
       "    <tr style=\"text-align: right;\">\n",
       "      <th>idx</th>\n",
       "      <th>text</th>\n",
       "    </tr>\n",
       "  </thead>\n",
       "  <tbody>\n",
       "    <tr>\n",
       "      <td>0</td>\n",
       "      <td>ve portre modu.3-i̇şlemci.4-ses kalitesi.5 - 4 g indirme hızı.6-bildirim ışığı . xxmaj şarj konusunda endişem vardı ancak oda yersizmiş . xxmaj birgün çok rahat çıkarttı . xxbos evet istediğim gibi xxbos xxmaj evet güzel ürün herkeze tavsiye ederim xxbos evet urun beğendim çok iyi a50 alacagina bunu al beğendim fakat tel 8 gün sonunda ele geçti.iletisim sıfır . mesaj atmama rağmen geri dökülmüyor 8 tane mesajdan sadece 2 sine yarılayamamak</td>\n",
       "    </tr>\n",
       "    <tr>\n",
       "      <td>1</td>\n",
       "      <td>yerine gözle net olarak gözüküyor kusurlu geldi alternatif telefon olmadığı için geri yollamadım bu şekilde kullanacam artik xxbos xxmaj ürün iyi , fakat kutudan xxmaj xiaomi xxmaj türkiye xxmaj garanti xxmaj belgesi çıkmadı , xxup kvk garanti belgesi çıktı . xxup kvk distribütörmüş , xxmaj umarım sorun çıkmaz . . xxbos 03.06.2018 tarihinde aldım kullanmadan hiç birşeye yorum yapmam zaman 1750 tl almıştım doların yükselmesiyle şuan 450 lira fark var</td>\n",
       "    </tr>\n",
       "    <tr>\n",
       "      <td>2</td>\n",
       "      <td>güzel hiçbir sıkıntı yok bu fiyata alınabilecek en iyi ürün ( 1.200tl ) xxbos başarılı bir ürün xxbos xxmaj ürün ve iletişimi güzel fakat kulaklık ve adaptör çok basit maalesef , yanında ekran koruyucu gelmemesi hayal kırıklığı xxbos xxmaj hızlı kargo ilgili satıcı teşekkürler . xxbos xxmaj ürünü beğendik . xxmaj çalışılan kargo şirketi ( xxup mng ) xxmaj konya il merkezinde nedense kargoyu belirli günlerde çıkarıyormuş . xxmaj bu</td>\n",
       "    </tr>\n",
       "    <tr>\n",
       "      <td>3</td>\n",
       "      <td>xxunk telefonu aktive ettiğim gibi güncelleme geldi . xxbos xxmaj xxunk bir ürün alacak olanlar düşünmeden alabilir xxbos arızalı şarj cihazı xxbos xxmaj apple garantili orijinal ürün gönderildi . xxbos urun guzel magaza kotu xxbos xxmaj güzel ürün , hızlı kargo sağlam paketleme , ayrıca ufak bir problemimiz vardı onuda telefonla çözdüler sağolsunlar .. xxmaj üründe oldukça güzel ve şık xxbos xxmaj evet nefesim anlatıldığı gibi xxbos xxmaj ürün siparisn</td>\n",
       "    </tr>\n",
       "    <tr>\n",
       "      <td>4</td>\n",
       "      <td>performansı çok iyi . daha yüksek fiyatları dahi hak ediyor bence xxunk . xxbos anlatmaya gerek yok xxbos fp açısından çok iyi bi cihaz . fiyatının xxunk kat kat veriyor xxbos xxmaj daha iyisi şamda kayısı 😁 xxbos xxmaj zaten kullandığım bi telefondu . xxmaj kızım için aldım . xxmaj telefon her yönüyle güzel . xxmaj tavsiye ederim xxbos ürün beklediğim gibi kesinlikle xxunk ederim xxbos tereddüt etmeden alabilirsiniz xxbos</td>\n",
       "    </tr>\n",
       "  </tbody>\n",
       "</table>"
      ],
      "text/plain": [
       "<IPython.core.display.HTML object>"
      ]
     },
     "metadata": {},
     "output_type": "display_data"
    }
   ],
   "source": [
    "data_lm.show_batch()"
   ]
  },
  {
   "cell_type": "code",
   "execution_count": 6,
   "metadata": {},
   "outputs": [],
   "source": [
    "learn = language_model_learner(data_lm, AWD_LSTM, pretrained=False, drop_mult=0.7, pretrained_fnames=[\"TurkishLM\", \"Turkish_LM_itos\"])"
   ]
  },
  {
   "cell_type": "code",
   "execution_count": 8,
   "metadata": {},
   "outputs": [
    {
     "data": {
      "text/plain": [
       "<bound method model_summary of LanguageLearner(data=TextLMDataBunch;\n",
       "\n",
       "Train: LabelList (6415 items)\n",
       "x: LMTextList\n",
       "xxbos xxmaj ürünün şık görünümü , kullanıcıya hitap eden özellikleri güzel bir ürün honor 10 lite magazaya teşekkürler . xxmaj kullanmaya yeni başladım gerçekten beğenilen bir telefon .,xxbos bence fatura ıle ılgılı sıkıntı yapıyolar guvenmeyın derım ben artık bu fırmadan almıyorum,xxbos xxup lg xxup g7 thinq’i tercih etme sebeplerim ise xxup 1-ips xxup lcd ekranın p - xxmaj oled ekrana göre daha uzun ömürlü olması . 2-ön kamera ve portre modu.3-i̇şlemci.4-ses kalitesi.5 - 4 g indirme hızı.6-bildirim ışığı . xxmaj şarj konusunda endişem vardı ancak oda yersizmiş . xxmaj birgün çok rahat çıkarttı .,xxbos evet istediğim gibi,xxbos xxmaj evet güzel ürün herkeze tavsiye ederim\n",
       "y: LMLabelList\n",
       ",,,,\n",
       "Path: .;\n",
       "\n",
       "Valid: LabelList (2748 items)\n",
       "x: LMTextList\n",
       "xxbos xxunk xxunk kullanıyorum çok güzel ama kulaklığı güzel değil şarz cihaz kablosu da güze değil biraz daha kaliteli olabilirdi l,xxbos xxmaj herne hikmetse içinden telefon kılıfı cıkmadı :(,xxbos xxmaj ürün güzel mağaza ilgili açılmamış kutusunda ve orjinal bi ürün geldi herşey için teşekkürler,xxbos xxmaj gerçekten ürün anlatıldığı gibi paketleme on numara birebir kvk ürünü xxmaj i̇nternetten kontrol ettim imei üzerinden xxmaj bir gündür kullanıyorum en çok dikkatimi çeken yüz tanıma ve parmak izi algılaması xxmaj süper çalışıyor gönül rahatlığıyla alabilirsiniz,xxbos xxunk gibi ürün huawei turkiye xxunk . telefon guzel tavsiye ederim ...\n",
       "y: LMLabelList\n",
       ",,,,\n",
       "Path: .;\n",
       "\n",
       "Test: None, model=SequentialRNN(\n",
       "  (0): AWD_LSTM(\n",
       "    (encoder): Embedding(7496, 400, padding_idx=1)\n",
       "    (encoder_dp): EmbeddingDropout(\n",
       "      (emb): Embedding(7496, 400, padding_idx=1)\n",
       "    )\n",
       "    (rnns): ModuleList(\n",
       "      (0): WeightDropout(\n",
       "        (module): LSTM(400, 1152, batch_first=True)\n",
       "      )\n",
       "      (1): WeightDropout(\n",
       "        (module): LSTM(1152, 1152, batch_first=True)\n",
       "      )\n",
       "      (2): WeightDropout(\n",
       "        (module): LSTM(1152, 400, batch_first=True)\n",
       "      )\n",
       "    )\n",
       "    (input_dp): RNNDropout()\n",
       "    (hidden_dps): ModuleList(\n",
       "      (0): RNNDropout()\n",
       "      (1): RNNDropout()\n",
       "      (2): RNNDropout()\n",
       "    )\n",
       "  )\n",
       "  (1): LinearDecoder(\n",
       "    (decoder): Linear(in_features=400, out_features=7496, bias=True)\n",
       "    (output_dp): RNNDropout()\n",
       "  )\n",
       "), opt_func=functools.partial(<class 'torch.optim.adam.Adam'>, betas=(0.9, 0.99)), loss_func=FlattenedLoss of CrossEntropyLoss(), metrics=[<function accuracy at 0x0000027B0252A708>], true_wd=True, bn_wd=True, wd=0.01, train_bn=True, path=WindowsPath('.'), model_dir='models', callback_fns=[functools.partial(<class 'fastai.basic_train.Recorder'>, add_time=True, silent=False)], callbacks=[RNNTrainer\n",
       "learn: ...\n",
       "alpha: 2.0\n",
       "beta: 1.0], layer_groups=[Sequential(\n",
       "  (0): WeightDropout(\n",
       "    (module): LSTM(400, 1152, batch_first=True)\n",
       "  )\n",
       "  (1): RNNDropout()\n",
       "), Sequential(\n",
       "  (0): WeightDropout(\n",
       "    (module): LSTM(1152, 1152, batch_first=True)\n",
       "  )\n",
       "  (1): RNNDropout()\n",
       "), Sequential(\n",
       "  (0): WeightDropout(\n",
       "    (module): LSTM(1152, 400, batch_first=True)\n",
       "  )\n",
       "  (1): RNNDropout()\n",
       "), Sequential(\n",
       "  (0): Embedding(7496, 400, padding_idx=1)\n",
       "  (1): EmbeddingDropout(\n",
       "    (emb): Embedding(7496, 400, padding_idx=1)\n",
       "  )\n",
       "  (2): LinearDecoder(\n",
       "    (decoder): Linear(in_features=400, out_features=7496, bias=True)\n",
       "    (output_dp): RNNDropout()\n",
       "  )\n",
       ")], add_time=True, silent=False)>"
      ]
     },
     "execution_count": 8,
     "metadata": {},
     "output_type": "execute_result"
    }
   ],
   "source": [
    "learn.summary"
   ]
  },
  {
   "cell_type": "code",
   "execution_count": 164,
   "metadata": {},
   "outputs": [
    {
     "data": {
      "text/html": [
       "\n",
       "    <div>\n",
       "        <style>\n",
       "            /* Turns off some styling */\n",
       "            progress {\n",
       "                /* gets rid of default border in Firefox and Opera. */\n",
       "                border: none;\n",
       "                /* Needs to be in here for Safari polyfill so background images work as expected. */\n",
       "                background-size: auto;\n",
       "            }\n",
       "            .progress-bar-interrupted, .progress-bar-interrupted::-webkit-progress-bar {\n",
       "                background: #F44336;\n",
       "            }\n",
       "        </style>\n",
       "      <progress value='2' class='' max='3', style='width:300px; height:20px; vertical-align: middle;'></progress>\n",
       "      66.67% [2/3 01:00<00:30]\n",
       "    </div>\n",
       "    \n",
       "<table border=\"1\" class=\"dataframe\">\n",
       "  <thead>\n",
       "    <tr style=\"text-align: left;\">\n",
       "      <th>epoch</th>\n",
       "      <th>train_loss</th>\n",
       "      <th>valid_loss</th>\n",
       "      <th>accuracy</th>\n",
       "      <th>time</th>\n",
       "    </tr>\n",
       "  </thead>\n",
       "  <tbody>\n",
       "    <tr>\n",
       "      <td>0</td>\n",
       "      <td>9.777419</td>\n",
       "      <td>#na#</td>\n",
       "      <td>00:30</td>\n",
       "    </tr>\n",
       "    <tr>\n",
       "      <td>1</td>\n",
       "      <td>9.271988</td>\n",
       "      <td>#na#</td>\n",
       "      <td>00:30</td>\n",
       "    </tr>\n",
       "  </tbody>\n",
       "</table><p>\n",
       "\n",
       "    <div>\n",
       "        <style>\n",
       "            /* Turns off some styling */\n",
       "            progress {\n",
       "                /* gets rid of default border in Firefox and Opera. */\n",
       "                border: none;\n",
       "                /* Needs to be in here for Safari polyfill so background images work as expected. */\n",
       "                background-size: auto;\n",
       "            }\n",
       "            .progress-bar-interrupted, .progress-bar-interrupted::-webkit-progress-bar {\n",
       "                background: #F44336;\n",
       "            }\n",
       "        </style>\n",
       "      <progress value='31' class='' max='34', style='width:300px; height:20px; vertical-align: middle;'></progress>\n",
       "      91.18% [31/34 00:27<00:02 12.7988]\n",
       "    </div>\n",
       "    "
      ],
      "text/plain": [
       "<IPython.core.display.HTML object>"
      ]
     },
     "metadata": {},
     "output_type": "display_data"
    },
    {
     "name": "stdout",
     "output_type": "stream",
     "text": [
      "LR Finder is complete, type {learner_name}.recorder.plot() to see the graph.\n"
     ]
    }
   ],
   "source": [
    "learn.lr_find()"
   ]
  },
  {
   "cell_type": "code",
   "execution_count": 165,
   "metadata": {},
   "outputs": [
    {
     "data": {
      "image/png": "[encoded data removed]",
      "text/plain": [
       "<Figure size 432x288 with 1 Axes>"
      ]
     },
     "metadata": {
      "needs_background": "light"
     },
     "output_type": "display_data"
    }
   ],
   "source": [
    "learn.recorder.plot()"
   ]
  },
  {
   "cell_type": "code",
   "execution_count": 12,
   "metadata": {},
   "outputs": [
    {
     "data": {
      "text/html": [
       "<table border=\"1\" class=\"dataframe\">\n",
       "  <thead>\n",
       "    <tr style=\"text-align: left;\">\n",
       "      <th>epoch</th>\n",
       "      <th>train_loss</th>\n",
       "      <th>valid_loss</th>\n",
       "      <th>accuracy</th>\n",
       "      <th>time</th>\n",
       "    </tr>\n",
       "  </thead>\n",
       "  <tbody>\n",
       "    <tr>\n",
       "      <td>0</td>\n",
       "      <td>7.572574</td>\n",
       "      <td>7.400965</td>\n",
       "      <td>0.085714</td>\n",
       "      <td>00:30</td>\n",
       "    </tr>\n",
       "    <tr>\n",
       "      <td>1</td>\n",
       "      <td>6.774595</td>\n",
       "      <td>6.811920</td>\n",
       "      <td>0.114286</td>\n",
       "      <td>00:30</td>\n",
       "    </tr>\n",
       "  </tbody>\n",
       "</table>"
      ],
      "text/plain": [
       "<IPython.core.display.HTML object>"
      ]
     },
     "metadata": {},
     "output_type": "display_data"
    }
   ],
   "source": [
    "learn.fit_one_cycle(2, 1e-2, moms=(0.8,0.7))"
   ]
  },
  {
   "cell_type": "code",
   "execution_count": 13,
   "metadata": {},
   "outputs": [],
   "source": [
    "learn.save('fit_head')"
   ]
  },
  {
   "cell_type": "code",
   "execution_count": 14,
   "metadata": {},
   "outputs": [],
   "source": [
    "learn.unfreeze()"
   ]
  },
  {
   "cell_type": "code",
   "execution_count": 15,
   "metadata": {},
   "outputs": [
    {
     "data": {
      "text/html": [
       "<table border=\"1\" class=\"dataframe\">\n",
       "  <thead>\n",
       "    <tr style=\"text-align: left;\">\n",
       "      <th>epoch</th>\n",
       "      <th>train_loss</th>\n",
       "      <th>valid_loss</th>\n",
       "      <th>accuracy</th>\n",
       "      <th>time</th>\n",
       "    </tr>\n",
       "  </thead>\n",
       "  <tbody>\n",
       "    <tr>\n",
       "      <td>0</td>\n",
       "      <td>6.205812</td>\n",
       "      <td>6.656069</td>\n",
       "      <td>0.128571</td>\n",
       "      <td>00:31</td>\n",
       "    </tr>\n",
       "    <tr>\n",
       "      <td>1</td>\n",
       "      <td>6.058472</td>\n",
       "      <td>6.259167</td>\n",
       "      <td>0.142857</td>\n",
       "      <td>00:31</td>\n",
       "    </tr>\n",
       "    <tr>\n",
       "      <td>2</td>\n",
       "      <td>5.804205</td>\n",
       "      <td>5.864965</td>\n",
       "      <td>0.142857</td>\n",
       "      <td>00:31</td>\n",
       "    </tr>\n",
       "    <tr>\n",
       "      <td>3</td>\n",
       "      <td>5.562445</td>\n",
       "      <td>5.580588</td>\n",
       "      <td>0.185714</td>\n",
       "      <td>00:31</td>\n",
       "    </tr>\n",
       "    <tr>\n",
       "      <td>4</td>\n",
       "      <td>5.357467</td>\n",
       "      <td>5.482171</td>\n",
       "      <td>0.214286</td>\n",
       "      <td>00:31</td>\n",
       "    </tr>\n",
       "    <tr>\n",
       "      <td>5</td>\n",
       "      <td>5.196960</td>\n",
       "      <td>5.359200</td>\n",
       "      <td>0.185714</td>\n",
       "      <td>00:31</td>\n",
       "    </tr>\n",
       "    <tr>\n",
       "      <td>6</td>\n",
       "      <td>5.066019</td>\n",
       "      <td>5.290712</td>\n",
       "      <td>0.200000</td>\n",
       "      <td>00:31</td>\n",
       "    </tr>\n",
       "    <tr>\n",
       "      <td>7</td>\n",
       "      <td>4.974281</td>\n",
       "      <td>5.265240</td>\n",
       "      <td>0.200000</td>\n",
       "      <td>00:31</td>\n",
       "    </tr>\n",
       "    <tr>\n",
       "      <td>8</td>\n",
       "      <td>4.907134</td>\n",
       "      <td>5.234507</td>\n",
       "      <td>0.200000</td>\n",
       "      <td>00:31</td>\n",
       "    </tr>\n",
       "    <tr>\n",
       "      <td>9</td>\n",
       "      <td>4.869724</td>\n",
       "      <td>5.236213</td>\n",
       "      <td>0.200000</td>\n",
       "      <td>00:31</td>\n",
       "    </tr>\n",
       "  </tbody>\n",
       "</table>"
      ],
      "text/plain": [
       "<IPython.core.display.HTML object>"
      ]
     },
     "metadata": {},
     "output_type": "display_data"
    }
   ],
   "source": [
    "learn.fit_one_cycle(10, 1e-3, moms=(0.8,0.7))"
   ]
  },
  {
   "cell_type": "code",
   "execution_count": 16,
   "metadata": {},
   "outputs": [],
   "source": [
    "learn.save('fine_tuned')"
   ]
  },
  {
   "cell_type": "code",
   "execution_count": 17,
   "metadata": {},
   "outputs": [],
   "source": [
    "TEXT = \"bu telefonu beğenmedim çünkü\"\n",
    "N_WORDS = 40\n",
    "N_SENTENCES = 2"
   ]
  },
  {
   "cell_type": "code",
   "execution_count": 18,
   "metadata": {},
   "outputs": [
    {
     "name": "stdout",
     "output_type": "stream",
     "text": [
      "bu telefonu beğenmedim çünkü 1 günde 2 ay ışığında bir telefon . 2 yıl boyunca hiç sorun yok , ne tutturursak kadar düşük değil ama bana bu fırmadan . xxbos Ürün tam istediğim gibi . Ekran tam rahatça orijinal ürün anlatıldığı gibi\n",
      "bu telefonu beğenmedim çünkü portre xxbos Telefon çok güzel . Ürün güzel fakat teşekkürler xxbos ben ürünü beğendim ama hiç beğenmedim ürün . iphone 8 günde 2000 TL ye atın garanti belgesi var . xxbos Bu paraya alınabilecek en iyi\n"
     ]
    }
   ],
   "source": [
    "print(\"\\n\".join(learn.predict(TEXT, N_WORDS, temperature=0.75) for _ in range(N_SENTENCES)))"
   ]
  },
  {
   "cell_type": "code",
   "execution_count": 19,
   "metadata": {},
   "outputs": [],
   "source": [
    "learn.save_encoder('fine_tuned_enc')"
   ]
  },
  {
   "cell_type": "code",
   "execution_count": 7,
   "metadata": {},
   "outputs": [
    {
     "data": {
      "text/html": [],
      "text/plain": [
       "<IPython.core.display.HTML object>"
      ]
     },
     "metadata": {},
     "output_type": "display_data"
    },
    {
     "data": {
      "text/html": [],
      "text/plain": [
       "<IPython.core.display.HTML object>"
      ]
     },
     "metadata": {},
     "output_type": "display_data"
    }
   ],
   "source": [
    "data_clas=TextClasDataBunch.from_df(path='.',train_df=df_train, valid_df=df_valid, vocab=data_lm.vocab, label_cols='label', text_cols='comment')\n",
    "data_clas.save('data_clas.pkl')"
   ]
  },
  {
   "cell_type": "code",
   "execution_count": 3,
   "metadata": {},
   "outputs": [],
   "source": [
    "data_clas = load_data('.', 'data_clas.pkl', bs=16)"
   ]
  },
  {
   "cell_type": "code",
   "execution_count": 6,
   "metadata": {},
   "outputs": [
    {
     "data": {
      "text/html": [
       "<table border=\"1\" class=\"dataframe\">\n",
       "  <thead>\n",
       "    <tr style=\"text-align: right;\">\n",
       "      <th>text</th>\n",
       "      <th>target</th>\n",
       "    </tr>\n",
       "  </thead>\n",
       "  <tbody>\n",
       "    <tr>\n",
       "      <td>xxbos xxmaj bence bu fiyata alınabilecek en iyi telefon . xxmaj arasında kaldığım diğer telefonlardan xxunk xxunk özellikleri şunlar oldu : 1 . xxmaj snapdragon 835 xxunk xxunk : xxmaj telefon canavar gibi bu xxunk . xxmaj diğer xxunk performans ve hız açısından xxunk yanına xxunk . 2 . xxmaj malzeme kalitesi : xxmaj telefonun en az 4 - 5 yıl xxunk için önemli bir husus . xxmaj telefon cam</td>\n",
       "      <td>1</td>\n",
       "    </tr>\n",
       "    <tr>\n",
       "      <td>xxbos xxmaj fiyat ve ürün şahane . xxmaj fakat lg'ye yapılan bu algı ve önyargıların gereksiz fazla olduğunu bu telefonu alınca farkettim . xxmaj neden derseniz zamanında xxup g3 ve xxup g4 te olan sorunların lg'nin bütün ürünlere maal edilmesi bence çok gereksiz ve bu üründe dahil lg'nin sadece ülkemizde düzgün satışı gerçekleşmiyor . xxmaj bu cihazı alırken bir sürü araştırma yaptım , gerek yorumlar olsun gerek testler olsun ülkemiz</td>\n",
       "      <td>1</td>\n",
       "    </tr>\n",
       "    <tr>\n",
       "      <td>xxbos xxmaj nfc özelliği şarttı bana bu bantta en uygun nfcli ekran gövde oranlı çentikli telefon . xxmaj çentik modern tutuyor . xxmaj emui arayüzü stabil , kamera yapay zeka gece çekimi olarak iyi iş çıkarıyor . xxmaj başta umidigi one pro düşünmüştüm ama işletim sistemi güncellemesi almaz ya da stabiliteden kuşkum vardı . xxmaj i̇yiki bunu almışım . xxmaj benim feragat ettiğim birkaç husus vardı : 1 ) hafıza</td>\n",
       "      <td>1</td>\n",
       "    </tr>\n",
       "    <tr>\n",
       "      <td>xxbos xxmaj nfc özelliği şarttı bana bu bantta en uygun nfcli ekran gövde oranlı çentikli telefon . xxmaj çentik modern tutuyor . xxmaj emui arayüzü stabil , kamera yapay zeka gece çekimi olarak iyi iş çıkarıyor . xxmaj başta umidigi one pro düşünmüştüm ama işletim sistemi güncellemesi almaz ya da stabiliteden kuşkum vardı . xxmaj i̇yiki bunu almışım . xxmaj benim feragat ettiğim birkaç husus vardı : 1 ) hafıza</td>\n",
       "      <td>1</td>\n",
       "    </tr>\n",
       "    <tr>\n",
       "      <td>xxbos xxmaj nfc özelliği şarttı bana bu bantta en uygun nfcli ekran gövde oranlı çentikli telefon . xxmaj çentik modern tutuyor . xxmaj emui arayüzü stabil , kamera yapay zeka gece çekimi olarak iyi iş çıkarıyor . xxmaj başta umidigi one pro düşünmüştüm ama işletim sistemi güncellemesi almaz ya da stabiliteden kuşkum vardı . xxmaj i̇yiki bunu almışım . xxmaj benim feragat ettiğim birkaç husus vardı : 1 ) hafıza</td>\n",
       "      <td>1</td>\n",
       "    </tr>\n",
       "  </tbody>\n",
       "</table>"
      ],
      "text/plain": [
       "<IPython.core.display.HTML object>"
      ]
     },
     "metadata": {},
     "output_type": "display_data"
    }
   ],
   "source": [
    "data_clas.show_batch()"
   ]
  },
  {
   "cell_type": "code",
   "execution_count": 4,
   "metadata": {},
   "outputs": [],
   "source": [
    "learn = text_classifier_learner(data_clas, AWD_LSTM, drop_mult=0.5)"
   ]
  },
  {
   "cell_type": "code",
   "execution_count": 5,
   "metadata": {},
   "outputs": [
    {
     "data": {
      "text/plain": [
       "RNNLearner(data=TextClasDataBunch;\n",
       "\n",
       "Train: LabelList (6415 items)\n",
       "x: TextList\n",
       "xxbos xxmaj ürünün şık görünümü , kullanıcıya hitap eden özellikleri güzel bir ürün honor 10 lite magazaya teşekkürler . xxmaj kullanmaya yeni başladım gerçekten beğenilen bir telefon .,xxbos bence fatura ıle ılgılı sıkıntı yapıyolar guvenmeyın derım ben artık bu fırmadan almıyorum,xxbos xxup lg xxup g7 thinq’i tercih etme sebeplerim ise xxup 1-ips xxup lcd ekranın p - xxmaj oled ekrana göre daha uzun ömürlü olması . 2-ön kamera ve portre modu.3-i̇şlemci.4-ses kalitesi.5 - 4 g indirme hızı.6-bildirim ışığı . xxmaj şarj konusunda endişem vardı ancak oda yersizmiş . xxmaj birgün çok rahat çıkarttı .,xxbos evet istediğim gibi,xxbos xxmaj evet güzel ürün herkeze tavsiye ederim\n",
       "y: CategoryList\n",
       "1,0,1,1,1\n",
       "Path: .;\n",
       "\n",
       "Valid: LabelList (2748 items)\n",
       "x: TextList\n",
       "xxbos xxunk xxunk kullanıyorum çok güzel ama kulaklığı güzel değil şarz cihaz kablosu da güze değil biraz daha kaliteli olabilirdi l,xxbos xxmaj herne hikmetse içinden telefon kılıfı cıkmadı :(,xxbos xxmaj ürün güzel mağaza ilgili açılmamış kutusunda ve orjinal bi ürün geldi herşey için teşekkürler,xxbos xxmaj gerçekten ürün anlatıldığı gibi paketleme on numara birebir kvk ürünü xxmaj i̇nternetten kontrol ettim imei üzerinden xxmaj bir gündür kullanıyorum en çok dikkatimi çeken yüz tanıma ve parmak izi algılaması xxmaj süper çalışıyor gönül rahatlığıyla alabilirsiniz,xxbos xxunk gibi ürün huawei turkiye xxunk . telefon guzel tavsiye ederim ...\n",
       "y: CategoryList\n",
       "1,1,1,1,1\n",
       "Path: .;\n",
       "\n",
       "Test: None, model=SequentialRNN(\n",
       "  (0): MultiBatchEncoder(\n",
       "    (module): AWD_LSTM(\n",
       "      (encoder): Embedding(7496, 400, padding_idx=1)\n",
       "      (encoder_dp): EmbeddingDropout(\n",
       "        (emb): Embedding(7496, 400, padding_idx=1)\n",
       "      )\n",
       "      (rnns): ModuleList(\n",
       "        (0): WeightDropout(\n",
       "          (module): LSTM(400, 1152, batch_first=True)\n",
       "        )\n",
       "        (1): WeightDropout(\n",
       "          (module): LSTM(1152, 1152, batch_first=True)\n",
       "        )\n",
       "        (2): WeightDropout(\n",
       "          (module): LSTM(1152, 400, batch_first=True)\n",
       "        )\n",
       "      )\n",
       "      (input_dp): RNNDropout()\n",
       "      (hidden_dps): ModuleList(\n",
       "        (0): RNNDropout()\n",
       "        (1): RNNDropout()\n",
       "        (2): RNNDropout()\n",
       "      )\n",
       "    )\n",
       "  )\n",
       "  (1): PoolingLinearClassifier(\n",
       "    (layers): Sequential(\n",
       "      (0): BatchNorm1d(1200, eps=1e-05, momentum=0.1, affine=True, track_running_stats=True)\n",
       "      (1): Dropout(p=0.2, inplace=False)\n",
       "      (2): Linear(in_features=1200, out_features=50, bias=True)\n",
       "      (3): ReLU(inplace=True)\n",
       "      (4): BatchNorm1d(50, eps=1e-05, momentum=0.1, affine=True, track_running_stats=True)\n",
       "      (5): Dropout(p=0.1, inplace=False)\n",
       "      (6): Linear(in_features=50, out_features=2, bias=True)\n",
       "    )\n",
       "  )\n",
       "), opt_func=functools.partial(<class 'torch.optim.adam.Adam'>, betas=(0.9, 0.99)), loss_func=FlattenedLoss of CrossEntropyLoss(), metrics=[<function accuracy at 0x000001C18257D708>], true_wd=True, bn_wd=True, wd=0.01, train_bn=True, path=WindowsPath('.'), model_dir='models', callback_fns=[functools.partial(<class 'fastai.basic_train.Recorder'>, add_time=True, silent=False)], callbacks=[RNNTrainer\n",
       "learn: ...\n",
       "alpha: 2.0\n",
       "beta: 1.0], layer_groups=[Sequential(\n",
       "  (0): Embedding(7496, 400, padding_idx=1)\n",
       "  (1): EmbeddingDropout(\n",
       "    (emb): Embedding(7496, 400, padding_idx=1)\n",
       "  )\n",
       "), Sequential(\n",
       "  (0): WeightDropout(\n",
       "    (module): LSTM(400, 1152, batch_first=True)\n",
       "  )\n",
       "  (1): RNNDropout()\n",
       "), Sequential(\n",
       "  (0): WeightDropout(\n",
       "    (module): LSTM(1152, 1152, batch_first=True)\n",
       "  )\n",
       "  (1): RNNDropout()\n",
       "), Sequential(\n",
       "  (0): WeightDropout(\n",
       "    (module): LSTM(1152, 400, batch_first=True)\n",
       "  )\n",
       "  (1): RNNDropout()\n",
       "), Sequential(\n",
       "  (0): PoolingLinearClassifier(\n",
       "    (layers): Sequential(\n",
       "      (0): BatchNorm1d(1200, eps=1e-05, momentum=0.1, affine=True, track_running_stats=True)\n",
       "      (1): Dropout(p=0.2, inplace=False)\n",
       "      (2): Linear(in_features=1200, out_features=50, bias=True)\n",
       "      (3): ReLU(inplace=True)\n",
       "      (4): BatchNorm1d(50, eps=1e-05, momentum=0.1, affine=True, track_running_stats=True)\n",
       "      (5): Dropout(p=0.1, inplace=False)\n",
       "      (6): Linear(in_features=50, out_features=2, bias=True)\n",
       "    )\n",
       "  )\n",
       ")], add_time=True, silent=False)"
      ]
     },
     "execution_count": 5,
     "metadata": {},
     "output_type": "execute_result"
    }
   ],
   "source": [
    "learn.load_encoder('fine_tuned_enc')"
   ]
  },
  {
   "cell_type": "code",
   "execution_count": 9,
   "metadata": {},
   "outputs": [
    {
     "data": {
      "text/html": [
       "\n",
       "    <div>\n",
       "        <style>\n",
       "            /* Turns off some styling */\n",
       "            progress {\n",
       "                /* gets rid of default border in Firefox and Opera. */\n",
       "                border: none;\n",
       "                /* Needs to be in here for Safari polyfill so background images work as expected. */\n",
       "                background-size: auto;\n",
       "            }\n",
       "            .progress-bar-interrupted, .progress-bar-interrupted::-webkit-progress-bar {\n",
       "                background: #F44336;\n",
       "            }\n",
       "        </style>\n",
       "      <progress value='0' class='' max='1', style='width:300px; height:20px; vertical-align: middle;'></progress>\n",
       "      0.00% [0/1 00:00<00:00]\n",
       "    </div>\n",
       "    \n",
       "<table border=\"1\" class=\"dataframe\">\n",
       "  <thead>\n",
       "    <tr style=\"text-align: left;\">\n",
       "      <th>epoch</th>\n",
       "      <th>train_loss</th>\n",
       "      <th>valid_loss</th>\n",
       "      <th>accuracy</th>\n",
       "      <th>time</th>\n",
       "    </tr>\n",
       "  </thead>\n",
       "  <tbody>\n",
       "  </tbody>\n",
       "</table><p>\n",
       "\n",
       "    <div>\n",
       "        <style>\n",
       "            /* Turns off some styling */\n",
       "            progress {\n",
       "                /* gets rid of default border in Firefox and Opera. */\n",
       "                border: none;\n",
       "                /* Needs to be in here for Safari polyfill so background images work as expected. */\n",
       "                background-size: auto;\n",
       "            }\n",
       "            .progress-bar-interrupted, .progress-bar-interrupted::-webkit-progress-bar {\n",
       "                background: #F44336;\n",
       "            }\n",
       "        </style>\n",
       "      <progress value='94' class='' max='100', style='width:300px; height:20px; vertical-align: middle;'></progress>\n",
       "      94.00% [94/100 00:57<00:03 2.4447]\n",
       "    </div>\n",
       "    "
      ],
      "text/plain": [
       "<IPython.core.display.HTML object>"
      ]
     },
     "metadata": {},
     "output_type": "display_data"
    },
    {
     "name": "stdout",
     "output_type": "stream",
     "text": [
      "LR Finder is complete, type {learner_name}.recorder.plot() to see the graph.\n"
     ]
    }
   ],
   "source": [
    "learn.lr_find()"
   ]
  },
  {
   "cell_type": "code",
   "execution_count": 10,
   "metadata": {},
   "outputs": [
    {
     "data": {
      "image/png": "[encoded data removed]",
      "text/plain": [
       "<Figure size 432x288 with 1 Axes>"
      ]
     },
     "metadata": {
      "needs_background": "light"
     },
     "output_type": "display_data"
    }
   ],
   "source": [
    "learn.recorder.plot()"
   ]
  },
  {
   "cell_type": "code",
   "execution_count": 11,
   "metadata": {},
   "outputs": [
    {
     "data": {
      "text/html": [
       "<table border=\"1\" class=\"dataframe\">\n",
       "  <thead>\n",
       "    <tr style=\"text-align: left;\">\n",
       "      <th>epoch</th>\n",
       "      <th>train_loss</th>\n",
       "      <th>valid_loss</th>\n",
       "      <th>accuracy</th>\n",
       "      <th>time</th>\n",
       "    </tr>\n",
       "  </thead>\n",
       "  <tbody>\n",
       "    <tr>\n",
       "      <td>0</td>\n",
       "      <td>0.526039</td>\n",
       "      <td>0.417010</td>\n",
       "      <td>0.800946</td>\n",
       "      <td>01:30</td>\n",
       "    </tr>\n",
       "  </tbody>\n",
       "</table>"
      ],
      "text/plain": [
       "<IPython.core.display.HTML object>"
      ]
     },
     "metadata": {},
     "output_type": "display_data"
    }
   ],
   "source": [
    "learn.fit_one_cycle(1, 2e-2, moms=(0.8,0.7))"
   ]
  },
  {
   "cell_type": "code",
   "execution_count": 12,
   "metadata": {},
   "outputs": [],
   "source": [
    "learn.save('first')"
   ]
  },
  {
   "cell_type": "code",
   "execution_count": 13,
   "metadata": {},
   "outputs": [
    {
     "data": {
      "text/html": [
       "<table border=\"1\" class=\"dataframe\">\n",
       "  <thead>\n",
       "    <tr style=\"text-align: left;\">\n",
       "      <th>epoch</th>\n",
       "      <th>train_loss</th>\n",
       "      <th>valid_loss</th>\n",
       "      <th>accuracy</th>\n",
       "      <th>time</th>\n",
       "    </tr>\n",
       "  </thead>\n",
       "  <tbody>\n",
       "    <tr>\n",
       "      <td>0</td>\n",
       "      <td>0.473924</td>\n",
       "      <td>0.353151</td>\n",
       "      <td>0.851164</td>\n",
       "      <td>01:32</td>\n",
       "    </tr>\n",
       "  </tbody>\n",
       "</table>"
      ],
      "text/plain": [
       "<IPython.core.display.HTML object>"
      ]
     },
     "metadata": {},
     "output_type": "display_data"
    }
   ],
   "source": [
    "learn.freeze_to(-2)\n",
    "learn.fit_one_cycle(1, slice(1e-2/(2.6**4),1e-2), moms=(0.8,0.7))"
   ]
  },
  {
   "cell_type": "code",
   "execution_count": 14,
   "metadata": {},
   "outputs": [
    {
     "data": {
      "text/html": [
       "<table border=\"1\" class=\"dataframe\">\n",
       "  <thead>\n",
       "    <tr style=\"text-align: left;\">\n",
       "      <th>epoch</th>\n",
       "      <th>train_loss</th>\n",
       "      <th>valid_loss</th>\n",
       "      <th>accuracy</th>\n",
       "      <th>time</th>\n",
       "    </tr>\n",
       "  </thead>\n",
       "  <tbody>\n",
       "    <tr>\n",
       "      <td>0</td>\n",
       "      <td>0.423275</td>\n",
       "      <td>0.307761</td>\n",
       "      <td>0.871907</td>\n",
       "      <td>01:37</td>\n",
       "    </tr>\n",
       "  </tbody>\n",
       "</table>"
      ],
      "text/plain": [
       "<IPython.core.display.HTML object>"
      ]
     },
     "metadata": {},
     "output_type": "display_data"
    }
   ],
   "source": [
    "learn.freeze_to(-3)\n",
    "learn.fit_one_cycle(1, slice(5e-3/(2.6**4),5e-3), moms=(0.8,0.7))"
   ]
  },
  {
   "cell_type": "code",
   "execution_count": 15,
   "metadata": {},
   "outputs": [],
   "source": [
    "learn.save('third')"
   ]
  },
  {
   "cell_type": "code",
   "execution_count": 6,
   "metadata": {},
   "outputs": [
    {
     "data": {
      "text/plain": [
       "RNNLearner(data=TextClasDataBunch;\n",
       "\n",
       "Train: LabelList (6415 items)\n",
       "x: TextList\n",
       "xxbos xxmaj ürünün şık görünümü , kullanıcıya hitap eden özellikleri güzel bir ürün honor 10 lite magazaya teşekkürler . xxmaj kullanmaya yeni başladım gerçekten beğenilen bir telefon .,xxbos bence fatura ıle ılgılı sıkıntı yapıyolar guvenmeyın derım ben artık bu fırmadan almıyorum,xxbos xxup lg xxup g7 thinq’i tercih etme sebeplerim ise xxup 1-ips xxup lcd ekranın p - xxmaj oled ekrana göre daha uzun ömürlü olması . 2-ön kamera ve portre modu.3-i̇şlemci.4-ses kalitesi.5 - 4 g indirme hızı.6-bildirim ışığı . xxmaj şarj konusunda endişem vardı ancak oda yersizmiş . xxmaj birgün çok rahat çıkarttı .,xxbos evet istediğim gibi,xxbos xxmaj evet güzel ürün herkeze tavsiye ederim\n",
       "y: CategoryList\n",
       "1,0,1,1,1\n",
       "Path: .;\n",
       "\n",
       "Valid: LabelList (2748 items)\n",
       "x: TextList\n",
       "xxbos xxunk xxunk kullanıyorum çok güzel ama kulaklığı güzel değil şarz cihaz kablosu da güze değil biraz daha kaliteli olabilirdi l,xxbos xxmaj herne hikmetse içinden telefon kılıfı cıkmadı :(,xxbos xxmaj ürün güzel mağaza ilgili açılmamış kutusunda ve orjinal bi ürün geldi herşey için teşekkürler,xxbos xxmaj gerçekten ürün anlatıldığı gibi paketleme on numara birebir kvk ürünü xxmaj i̇nternetten kontrol ettim imei üzerinden xxmaj bir gündür kullanıyorum en çok dikkatimi çeken yüz tanıma ve parmak izi algılaması xxmaj süper çalışıyor gönül rahatlığıyla alabilirsiniz,xxbos xxunk gibi ürün huawei turkiye xxunk . telefon guzel tavsiye ederim ...\n",
       "y: CategoryList\n",
       "1,1,1,1,1\n",
       "Path: .;\n",
       "\n",
       "Test: None, model=SequentialRNN(\n",
       "  (0): MultiBatchEncoder(\n",
       "    (module): AWD_LSTM(\n",
       "      (encoder): Embedding(7496, 400, padding_idx=1)\n",
       "      (encoder_dp): EmbeddingDropout(\n",
       "        (emb): Embedding(7496, 400, padding_idx=1)\n",
       "      )\n",
       "      (rnns): ModuleList(\n",
       "        (0): WeightDropout(\n",
       "          (module): LSTM(400, 1152, batch_first=True)\n",
       "        )\n",
       "        (1): WeightDropout(\n",
       "          (module): LSTM(1152, 1152, batch_first=True)\n",
       "        )\n",
       "        (2): WeightDropout(\n",
       "          (module): LSTM(1152, 400, batch_first=True)\n",
       "        )\n",
       "      )\n",
       "      (input_dp): RNNDropout()\n",
       "      (hidden_dps): ModuleList(\n",
       "        (0): RNNDropout()\n",
       "        (1): RNNDropout()\n",
       "        (2): RNNDropout()\n",
       "      )\n",
       "    )\n",
       "  )\n",
       "  (1): PoolingLinearClassifier(\n",
       "    (layers): Sequential(\n",
       "      (0): BatchNorm1d(1200, eps=1e-05, momentum=0.1, affine=True, track_running_stats=True)\n",
       "      (1): Dropout(p=0.2, inplace=False)\n",
       "      (2): Linear(in_features=1200, out_features=50, bias=True)\n",
       "      (3): ReLU(inplace=True)\n",
       "      (4): BatchNorm1d(50, eps=1e-05, momentum=0.1, affine=True, track_running_stats=True)\n",
       "      (5): Dropout(p=0.1, inplace=False)\n",
       "      (6): Linear(in_features=50, out_features=2, bias=True)\n",
       "    )\n",
       "  )\n",
       "), opt_func=functools.partial(<class 'torch.optim.adam.Adam'>, betas=(0.9, 0.99)), loss_func=FlattenedLoss of CrossEntropyLoss(), metrics=[<function accuracy at 0x000001C18257D708>], true_wd=True, bn_wd=True, wd=0.01, train_bn=True, path=WindowsPath('.'), model_dir='models', callback_fns=[functools.partial(<class 'fastai.basic_train.Recorder'>, add_time=True, silent=False)], callbacks=[RNNTrainer\n",
       "learn: ...\n",
       "alpha: 2.0\n",
       "beta: 1.0], layer_groups=[Sequential(\n",
       "  (0): Embedding(7496, 400, padding_idx=1)\n",
       "  (1): EmbeddingDropout(\n",
       "    (emb): Embedding(7496, 400, padding_idx=1)\n",
       "  )\n",
       "), Sequential(\n",
       "  (0): WeightDropout(\n",
       "    (module): LSTM(400, 1152, batch_first=True)\n",
       "  )\n",
       "  (1): RNNDropout()\n",
       "), Sequential(\n",
       "  (0): WeightDropout(\n",
       "    (module): LSTM(1152, 1152, batch_first=True)\n",
       "  )\n",
       "  (1): RNNDropout()\n",
       "), Sequential(\n",
       "  (0): WeightDropout(\n",
       "    (module): LSTM(1152, 400, batch_first=True)\n",
       "  )\n",
       "  (1): RNNDropout()\n",
       "), Sequential(\n",
       "  (0): PoolingLinearClassifier(\n",
       "    (layers): Sequential(\n",
       "      (0): BatchNorm1d(1200, eps=1e-05, momentum=0.1, affine=True, track_running_stats=True)\n",
       "      (1): Dropout(p=0.2, inplace=False)\n",
       "      (2): Linear(in_features=1200, out_features=50, bias=True)\n",
       "      (3): ReLU(inplace=True)\n",
       "      (4): BatchNorm1d(50, eps=1e-05, momentum=0.1, affine=True, track_running_stats=True)\n",
       "      (5): Dropout(p=0.1, inplace=False)\n",
       "      (6): Linear(in_features=50, out_features=2, bias=True)\n",
       "    )\n",
       "  )\n",
       ")], add_time=True, silent=False)"
      ]
     },
     "execution_count": 6,
     "metadata": {},
     "output_type": "execute_result"
    }
   ],
   "source": [
    "learn.load(\"third\")"
   ]
  },
  {
   "cell_type": "code",
   "execution_count": 7,
   "metadata": {},
   "outputs": [
    {
     "data": {
      "text/html": [
       "<table border=\"1\" class=\"dataframe\">\n",
       "  <thead>\n",
       "    <tr style=\"text-align: left;\">\n",
       "      <th>epoch</th>\n",
       "      <th>train_loss</th>\n",
       "      <th>valid_loss</th>\n",
       "      <th>accuracy</th>\n",
       "      <th>time</th>\n",
       "    </tr>\n",
       "  </thead>\n",
       "  <tbody>\n",
       "    <tr>\n",
       "      <td>0</td>\n",
       "      <td>0.411634</td>\n",
       "      <td>0.283090</td>\n",
       "      <td>0.885371</td>\n",
       "      <td>02:38</td>\n",
       "    </tr>\n",
       "    <tr>\n",
       "      <td>1</td>\n",
       "      <td>0.385084</td>\n",
       "      <td>0.274783</td>\n",
       "      <td>0.887191</td>\n",
       "      <td>02:41</td>\n",
       "    </tr>\n",
       "  </tbody>\n",
       "</table>"
      ],
      "text/plain": [
       "<IPython.core.display.HTML object>"
      ]
     },
     "metadata": {},
     "output_type": "display_data"
    }
   ],
   "source": [
    "learn.unfreeze()\n",
    "learn.fit_one_cycle(2, slice(1e-3/(2.6**4),1e-3), moms=(0.8,0.7))"
   ]
  },
  {
   "cell_type": "code",
   "execution_count": 8,
   "metadata": {},
   "outputs": [],
   "source": [
    "learn.save('final')"
   ]
  },
  {
   "cell_type": "code",
   "execution_count": 27,
   "metadata": {},
   "outputs": [
    {
     "name": "stdout",
     "output_type": "stream",
     "text": [
      "(Category 0, tensor(0), tensor([0.7869, 0.2131]))\n",
      "Olumsuz yorum\n"
     ]
    },
    {
     "name": "stderr",
     "output_type": "stream",
     "text": [
      "C:\\Users\\Undefined\\Anaconda3\\envs\\fastai2\\lib\\site-packages\\fastai\\torch_core.py:83: UserWarning: Tensor is int32: upgrading to int64; for better performance use int64 input\n",
      "  warn('Tensor is int32: upgrading to int64; for better performance use int64 input')\n"
     ]
    }
   ],
   "source": [
    "result =learn.predict(\"almayın kagro çok geç geldi\")\n",
    "print(result)\n",
    "if(result[0]== Category(0,'Olumsuz')):\n",
    "   print(\"Olumsuz yorum\")\n",
    "else:\n",
    "   print(\"Olumlu yorum\")"
   ]
  },
  {
   "cell_type": "code",
   "execution_count": null,
   "metadata": {},
   "outputs": [],
   "source": []
  }
 ],
 "metadata": {
  "kernelspec": {
   "display_name": "Python 3",
   "language": "python",
   "name": "python3"
  },
  "language_info": {
   "codemirror_mode": {
    "name": "ipython",
    "version": 3
   },
   "file_extension": ".py",
   "mimetype": "text/x-python",
   "name": "python",
   "nbconvert_exporter": "python",
   "pygments_lexer": "ipython3",
   "version": "3.7.6"
  }
 },
 "nbformat": 4,
 "nbformat_minor": 2
}
