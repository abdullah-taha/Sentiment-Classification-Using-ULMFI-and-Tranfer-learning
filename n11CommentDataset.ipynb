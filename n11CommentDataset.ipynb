{
 "cells": [
  {
   "cell_type": "code",
   "execution_count": 74,
   "metadata": {},
   "outputs": [
    {
     "name": "stdout",
     "output_type": "stream",
     "text": [
      "1445\n"
     ]
    }
   ],
   "source": [
    "import requests\n",
    "from bs4 import BeautifulSoup\n",
    "\n",
    "\n",
    "all_links = []\n",
    "\n",
    "    \n",
    "for i in range(1,51):\n",
    "    result = requests.get(\"https://www.n11.com/telefon-ve-aksesuarlari/cep-telefonu?srt=REVIEWS&pg=\"+str(i))\n",
    "    soup = BeautifulSoup(result.text,'lxml')\n",
    "    links = soup.find_all(\"a\", class_=\"plink\")\n",
    "    for link in links:\n",
    "        all_links.append(link.attrs['href'])\n",
    "        \n",
    "         \n",
    "        \n",
    "print(len(all_links))"
   ]
  },
  {
   "cell_type": "code",
   "execution_count": 100,
   "metadata": {},
   "outputs": [],
   "source": [
    "import time\n",
    "from selenium import webdriver\n",
    "chrome_path = r\"C:\\Users\\Undefined\\Downloads\\Compressed\\chromedriver.exe\"\n",
    "driver = webdriver.Chrome(chrome_path)\n",
    "driver.set_window_size(1000, 806)\n",
    "\n",
    "#driver.get(all_links[0])\n",
    "time.sleep(1)"
   ]
  },
  {
   "cell_type": "code",
   "execution_count": 7,
   "metadata": {},
   "outputs": [],
   "source": [
    "driver.find_element_by_xpath('//*[@id=\"unf-p-id\"]/div/ul/li[5]/a').click()"
   ]
  },
  {
   "cell_type": "code",
   "execution_count": 54,
   "metadata": {},
   "outputs": [
    {
     "name": "stdout",
     "output_type": "stream",
     "text": [
      "46\n"
     ]
    }
   ],
   "source": [
    "x = driver.find_element_by_xpath('//*[@id=\"tabPanelProComments\"]/div/div[2]/div[2]/div/span')\n",
    "pageCount =x.get_attribute(\"innerHTML\")\n",
    "print(pageCount)"
   ]
  },
  {
   "cell_type": "code",
   "execution_count": 55,
   "metadata": {},
   "outputs": [
    {
     "name": "stdout",
     "output_type": "stream",
     "text": [
      "10\n"
     ]
    }
   ],
   "source": [
    "comments = driver.find_elements_by_class_name(\"comment\")\n",
    "print(len(comments))"
   ]
  },
  {
   "cell_type": "code",
   "execution_count": 56,
   "metadata": {},
   "outputs": [],
   "source": [
    "driver.find_element_by_xpath('//*[@id=\"cookieUsagePopIn\"]/span').click()"
   ]
  },
  {
   "cell_type": "code",
   "execution_count": 57,
   "metadata": {},
   "outputs": [
    {
     "name": "stdout",
     "output_type": "stream",
     "text": [
      "1 Ürün anlatıldığı gibi orjinal\n",
      "\n",
      "1 Mağaza ilgili ve hızlı. Telefon çok güzel. Parasını hakediyor.\n",
      "\n",
      "1 Fiyat ve performans anlamında piyasadaki en iyi cep telefonu.\n",
      "\n",
      "1 diyecek kelime yok herşey ortada süper\n",
      "\n",
      "1 Fiyat performans ürünü. 2 gün şarjı gidiyor. Gayet hızlı. Donma filan yok. Memnunum..\n",
      "\n",
      "1 Fiyat performans süper\n",
      "\n",
      "1 Ürün gayet güzel başarılı. Memnunuz. Tavsiye ederiz.\n",
      "\n",
      "1 Firma urun paketlemesini cok iyi yapmis. Bekledigim surede elime ulasti.\n",
      "\n",
      "1 Hızlı, Kullanması kolay ve büyüklüğü ile tüm isteklerinizi karşılayabilicek bir fiyat performans ürünü\n",
      "\n",
      "1 urun fiyatına göre iyi biz çok memnun kaldık\n",
      "\n",
      "10\n",
      "1 ürün çok kaliteli 👍\n",
      "\n",
      "0 Bu fiyata alınabilecek en kaliteli ürün bu olsa gerek\n",
      "\n",
      "1 çok hızlı kamerası çok net ekranı büyük almak isteyenlere tavsiye ederim\n",
      "\n",
      "1 HAFIZA RAM İŞLEMCİ KAMERA KALİTESİ MÜKEMMEL\n",
      "\n",
      "1 Performans olarak beğendim, içerik olarak abuk subuk programlar yüklü değil. Fiyat performans ürünü tavsiye ederim..\n",
      "\n",
      "1 Şuanda ürünü kullaniyorum 1 ay oluyor pubg mobile oynamak iç n aldım gayet güzel şarj 2 gün gidiyor almak istiyen kişiler terettut etmeden alabilir güvenilir satıcı\n",
      "\n",
      "1 Ürünüm güzel bir şekilde elime ulaştı ve sorunsuz memnun kaldım\n",
      "\n",
      "1 ürün guzeldi paketi özenliydi\n",
      "\n",
      "1 Evet birde kargo ücreti olmasa\n",
      "\n",
      "1 Bu fiyata göre gayet iyi. O kadar vergi, kargo, komisyon derken satıcılara bir şey kalmıyor. Bu fiyata verdikleri için gerçekten çok iyi iş yapıyorlar helal olsun.\n",
      "\n",
      "10\n"
     ]
    }
   ],
   "source": [
    "\n",
    "for page in range(1,pageCount):\n",
    "    comments = driver.find_elements_by_class_name(\"comment\")\n",
    "    for comment in comments:\n",
    "            time.sleep(1)\n",
    "            rating = 1 if(int(comment.find_element_by_class_name('ratingCont').find_element_by_tag_name('span').get_attribute('class').split(' r')[1]) >60) else 0\n",
    "            text = str(rating)+ \" \" +comment.find_element_by_tag_name('p').text +\"\\n\"\n",
    "            print(text)\n",
    "    driver.find_element_by_xpath('//*[@id=\"tabPanelProComments\"]/div/div[2]/div[2]/a['+str(page)+']').click()\n",
    "    time.sleep(1)\n",
    "    "
   ]
  },
  {
   "cell_type": "code",
   "execution_count": 101,
   "metadata": {},
   "outputs": [
    {
     "name": "stdout",
     "output_type": "stream",
     "text": [
      "https://www.n11.com/urun/blackview-bv6800-pro-64-gb-blackview-turkiye-garantili-1202794?magaza=cepdakik&rf=one-cikanlar\n",
      "0 sıfır KVK garantili diye ikincisi el garantisi olmayan telefon gönderdiler.. Telefon içerisinde 2018 yılında çekilmiş bir sürü foto var kesinlikle tavsiye etmem\n",
      "\n",
      "1 Telefon güzel ve sağlam eğer aradığınız sağlam ve dayanıklı bir tefonsa iyi bir tercih olur kamerası çokta kötü değil biraz kaba bir telefon şarzım 2 gün gidiyor normal kullanımda 4 gün gider gibi\n",
      "\n",
      "https://www.n11.com/urun/oppo-a5s-32-gb3-gb-oppo-turkiye-garantili-1126704?magaza=harcabitmez\n",
      "0 Ürün iyi mağaza sıkıntı\n",
      "\n",
      "0 Ürün gayet kullanışlı ve bu fiyata alabileceğimiz en iyi telefon diyebilirim bu mağza en ucuz satan yer\n",
      "\n",
      "0 Güzel ürün kapalı\n",
      "\n",
      "1 evet.güzel.bi.ürün\n",
      "\n",
      "https://www.n11.com/urun/xiaomi-mi-9t-128-gb-duos-xiaomi-turkiye-garantili-1009770?magaza=mistore\n",
      "0 Mağaza berbat ötesi... İletişim yok. 12 günde kargoya verildi. Şikayet var. Com A şikayet yazdıktan sonra sağolsun bir yetkili aradı ve ürünü kargoya verdiler. N11 canlı destek hiç bir işe yaramıyor. N11 hiç bir şekilde yardımcı olmadı. Satıcıyı uyardık 3 günde size ulaşacak diyorlardı. BAŞKA MAĞAZADAN AL KARDEŞİM. ADAMLAR YALANCI\n",
      "\n",
      "0 Ürünü beğendim ama iletişim kötü\n",
      "\n",
      "1 Ürün tam bir f/p ürünü. sizi üzeceğini düşünmüyorum\n",
      "\n",
      "https://www.n11.com/urun/xiaomi-redmi-8-64-gb-xiaomi-turkiye-garantili-1172022?magaza=mistore\n",
      "0 Bi günde elinizde olacak ürün çok yoğun diye kargoya geç veriliyor o zaman elaman alın.\n",
      "\n",
      "0 Cihaz Evofone bilişimden gelmesine rağmen sevk irsaliye arena bilgisayardan geldi ve fatura mevcut değildi\n",
      "\n",
      "0 Ürün gayet iyi.İlgili mağazaya başka kargo firması ile gönderim talep ettim. Anlaşmalı kargonun yurtiçi kargo olduğunu başka kargo şirketi ile gönderim yapamayacağını mesaj ile bildirdi. Firma ücretsiz kargo ile gönderim yapsa mazeretleri kabul edilebilir fakat kargo ücretini ben ödüyorsam istediğim kargo şirketini seçebilmeliyim öyle değil mi? Beni yurtiçi kargo gibi işini yapamayan bir kargo şirketiyle muhatap ettiği için üç yıldız verdim\n",
      "\n",
      "0  telefonun kamerası daha ucuz telefonların kamerası gibi. renkler canlı değil. beklentimin altında kaldı.diğer özelliklerine sözüm yok\n",
      "\n",
      "0 PİL CANAVARI... BEĞENDİM.\n",
      "\n",
      "1 pahalısıyla farkı yok\n",
      "\n",
      "https://www.n11.com/urun/apple-iphone-7-32-gb-apple-turkiye-garantili-124307?magaza=ekolaycep\n",
      "1 Ürün yazılan özellikte sorunsuz ve kısa sürede ulaştı\n",
      "\n"
     ]
    }
   ],
   "source": [
    "file = open(r\"C:\\Users\\Undefined\\Desktop\\comments.txt\",'a',encoding='utf-8')\n",
    "rating = 0\n",
    "CookiesPopup = True\n",
    "\n",
    "for link in all_links[55:60]:\n",
    "    print(link)\n",
    "    driver.get(link)\n",
    "    time.sleep(1)\n",
    "    driver.find_element_by_xpath('//*[@id=\"unf-p-id\"]/div/ul/li[5]/a').click()\n",
    "    if(CookiesPopup): \n",
    "        driver.find_element_by_xpath('//*[@id=\"cookieUsagePopIn\"]/span').click()\n",
    "        CookiesPopup = False\n",
    "    driver.find_element_by_xpath('//*[@id=\"tabPanelProComments\"]/div/div[2]/div[1]/div[2]/select/option[4]').click()\n",
    "    for page in range(1,int(pageCount)):\n",
    "        try:\n",
    "            time.sleep(1)\n",
    "            comments = driver.find_elements_by_class_name(\"comment\")\n",
    "            for comment in comments:\n",
    "                time.sleep(1)\n",
    "                rating = 1 if(int(comment.find_element_by_class_name('ratingCont').find_element_by_tag_name('span').get_attribute('class').split(' r')[1]) >60) else 0\n",
    "                text = str(rating)+ \" \" +comment.find_element_by_tag_name('p').text +\"\\n\"\n",
    "                print(text)\n",
    "                if(rating==1):\n",
    "                    break\n",
    "                file.write(text)\n",
    "            if(rating==1):\n",
    "                break\n",
    "            driver.find_element_by_xpath('//*[@id=\"tabPanelProComments\"]/div/div[2]/div[2]/a['+str(page)+']').click()\n",
    "            time.sleep(1)\n",
    "        except:\n",
    "            continue\n",
    "file.close()"
   ]
  },
  {
   "cell_type": "code",
   "execution_count": null,
   "metadata": {},
   "outputs": [],
   "source": []
  }
 ],
 "metadata": {
  "kernelspec": {
   "display_name": "Python 3",
   "language": "python",
   "name": "python3"
  },
  "language_info": {
   "codemirror_mode": {
    "name": "ipython",
    "version": 3
   },
   "file_extension": ".py",
   "mimetype": "text/x-python",
   "name": "python",
   "nbconvert_exporter": "python",
   "pygments_lexer": "ipython3",
   "version": "3.6.8"
  }
 },
 "nbformat": 4,
 "nbformat_minor": 2
}
